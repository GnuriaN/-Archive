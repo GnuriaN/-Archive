{
 "cells": [
  {
   "cell_type": "markdown",
   "metadata": {},
   "source": [
    "# Описание REST-ресурсов сервиса\n",
    "\n",
    "## «Онлайн-Справка» версии 0.0.2\n",
    "\n",
    "### 1. Для получение региональной информации необходимо воспользоваться следующими методами:\n",
    " 1. http://rosreestr.ru/api/online/macro_regions – ресурс используется для получения списка макро-регионов. \n",
    " 2. http://rosreestr.ru/api/online/regions/{parent-id} – ресурс используется для получения дочерних регионов по идентификатору родителя. \\n      \n",
    "    **Пример использования:** ```http://rosreestr.ru/api/online/regions/104201000000```\n",
    " 3. http://rosreestr.ru/api/online/region_types/{parent-id} - список типов дочерних регионов.  \n",
    "    **Пример использования:** ```http://rosreestr.ru/api/online/region_types/104201000000```\n",
    "   \n",
    "### 2.\tДля получении информации о земельном участке или объекте недвижимости по идентификатору, необходимо воспользоваться методом:\n",
    "1. http://rosreestr.ru/api/online/fir_object/{object-id} – где вместо {object-id} \tнеобходимо подставить идентификатор объекта.\n",
    "   **Пример использования:** ```http://rosreestr.ru/api/online/fir_object/2:56:30302:639```\n",
    "\n",
    "### 3.\tДля поиска объекта недвижимости создано 3  ресурса — поиск по номеру (кадастровому, условному, устаревшему, номеру права и ограничения), отдельный ресурс по номеру права/ограничения  и по адресу.\n",
    " 1. http://rosreestr.ru/api/online/fir_objects/{number} – поиск по номеру объекта.\n",
    "\t**Пример:** ```http://rosreestr.ru/api/online/fir_objects/2:56:30302:639```\n",
    "    **Ответ:** ```Результатом поиска будет 0 или множество (не больше 200) объектов, \tудовлетворяющих маске номера.```\n",
    " 2. http://rosreestr.ru/api/right/{region}/{number} – поиск по номеру объекта, где {region} – цифровой код региона и {number} – номер права/ограничения\n",
    "\t**Пример:** ```\thttp://rosreestr.ru/api/online/right/177/50-50-21%2F042%2F2012-234```\n",
    "    **Ответ:** ```Результатом поиска будет 0 или 1 объект, номер права или ограничения которого совпал с указанным номером```\n",
    " 3. http://rosreestr.ru/api/online/address/fir_objects - URL для поиска объектов \tнедвижимости методом POST.\n",
    "\t\n",
    "    **Список передаваемых полей (long - число в виде строки, String произвольная строка):**\n",
    "    \n",
    "    ```\n",
    "\tlong macroRegionId    - id макрорегиона\n",
    "\tlong regionId         - id региона\n",
    "\tlong settlementId     - id населенного пункта\n",
    "    ```\n",
    "    \n",
    "    ```\n",
    "\tString settlementType - тип населенного пункта (необязательное поле, используется для \tфильтрации списка населенных пунктов от типа)\n",
    "\tString streetType     - тип улицы (необятельное поле)\t\n",
    "\tString street         - наименование улицы\n",
    "\tString house          - номер дома\n",
    "\tString apartment      - номер квартиры\n",
    "\tString building      - номер корпуса\n",
    "\tString structure     - номер строения\n",
    "    ```\n",
    "\t\n",
    "    **Список возможных значений поля streetType:**\n",
    "    \n",
    "    ```    \n",
    "    str1=Улица\n",
    "    str2=Переулок\n",
    "    str3=Проспект\n",
    "    str4=Площадь\n",
    "    str5=Микрорайон\n",
    "    str6=Аллея\n",
    "    str7=Бульвар\n",
    "    str8=Аал\n",
    "    str9=Аул\n",
    "    str10=Въезд\n",
    "    str11=Выселки\n",
    "    str12=Городок\n",
    "    str13=Деревня\n",
    "    str14=Дорога\n",
    "    str15=ж/д остановочный (обгонный) пункт\n",
    "    str16=Железнодорожная будка\n",
    "    str17=Железнодорожная казарма\n",
    "    str18=Железнодорожная платформа\n",
    "    str19=Железнодорожная станция\n",
    "    str20=Железнодорожный пост\n",
    "    str21=Железнодорожный разъезд\n",
    "    str22=Животноводческая точка\n",
    "    str23=Заезд\n",
    "    str24=Казарма\n",
    "    str25=Квартал\n",
    "    str26=Километр\n",
    "    str27=Кольцо\n",
    "    str28=Линия\n",
    "    str29=Местечко\n",
    "    str30=Набережная\n",
    "    str31=Населенный пункт\n",
    "    str32=Остров\n",
    "    str33=Парк\n",
    "    str34=Переезд\n",
    "    str35=Планировочный район\n",
    "    str36=Платформа\n",
    "    str37=Площадка\n",
    "    str38=Полустанок\n",
    "    str39=Поселок/станция\n",
    "    str40=Поселок сельского типа\n",
    "    str41=Починок\n",
    "    str42=Почтовое отделение\n",
    "    str43=Проезд\n",
    "    str44=Просек\n",
    "    str45=Проселок\n",
    "    str46=Проулок\n",
    "    str47=Разъезд\n",
    "    str48=Сад\n",
    "    str49=Село\n",
    "    str50=Сквер\n",
    "    str51=Слобода\n",
    "    str52=Станция\n",
    "    str53=Строение\n",
    "    str54=Территория\n",
    "    str55=Тракт\n",
    "    str56=Тупик\n",
    "    str57=Участок\n",
    "    str58=Хутор\n",
    "    str59=Шоссе\n",
    "```"
   ]
  },
  {
   "cell_type": "code",
   "execution_count": 1,
   "metadata": {
    "collapsed": false
   },
   "outputs": [
    {
     "name": "stdout",
     "output_type": "stream",
     "text": [
      "52:18:0060178:493\n"
     ]
    }
   ],
   "source": [
    "import requests\n",
    "import json\n",
    "\n",
    "url = 'http://rosreestr.ru/api/online/address/fir_objects'\n",
    "jsonParam = {\n",
    "    'macroRegionId': 122000000000,                # id макрорегиона\n",
    "    'regionId': 122401000000,                     # id региона \n",
    "    'settlementId': '',                           # id населенного пункта\n",
    "    'settlementType': '',                         # тип населенного пункта (необязательное поле, используется для фильтрации списка населенных пунктов от типа) \n",
    "    'streetType': 'str1',                         # тип улицы (необятельное поле)\n",
    "    'street': 'Родионова',                        # наименование улицы\n",
    "    'house': '39',                                # номер дома\n",
    "    'apartment': '114',                           # номер квартиры\n",
    "    'building': '',                               # номер корпуса\n",
    "    'structure': ''                               # номер строения\n",
    "            }\n",
    "\n",
    "resultat = (requests.post(url, json=jsonParam).text)\n",
    "resultat = json.loads(resultat)[1]['objectCn']\n",
    "\n",
    "print(resultat)"
   ]
  },
  {
   "cell_type": "code",
   "execution_count": 2,
   "metadata": {
    "collapsed": false
   },
   "outputs": [],
   "source": [
    "import requests\n",
    "import json"
   ]
  },
  {
   "cell_type": "code",
   "execution_count": 3,
   "metadata": {
    "collapsed": true
   },
   "outputs": [],
   "source": [
    "def getMacroRegionId(macroRegion):\n",
    "    \"\"\"\n",
    "    Получение ID макро-региона\n",
    "    \n",
    "    string: macroRegion\n",
    "    \"\"\"\n",
    "    urlID = 'http://rosreestr.ru/api/online/macro_regions'\n",
    "    return getID(urlID,macroRegion)"
   ]
  },
  {
   "cell_type": "code",
   "execution_count": 4,
   "metadata": {
    "collapsed": true
   },
   "outputs": [],
   "source": [
    "def getRegionId(macroRegionId, region):\n",
    "    \"\"\"\n",
    "    Получение ID региона в нутри макро-региона\n",
    "    \n",
    "    string: macroRegionId\n",
    "    string: region\n",
    "    \"\"\"\n",
    "    urlID = 'http://rosreestr.ru/api/online/regions/' + macroRegionId\n",
    "    return getID(urlID,region)"
   ]
  },
  {
   "cell_type": "code",
   "execution_count": 5,
   "metadata": {
    "collapsed": true
   },
   "outputs": [],
   "source": [
    "def getID(url, string):\n",
    "    \"\"\"\n",
    "    Выполнение запроса для получения данных\n",
    "    string: url\n",
    "    string: string\n",
    "    \"\"\"\n",
    "    response = requests.get(url).json()\n",
    "    for item in response:\n",
    "        if item['name'] == string:\n",
    "            return str(item['id'])"
   ]
  },
  {
   "cell_type": "code",
   "execution_count": 6,
   "metadata": {
    "collapsed": true
   },
   "outputs": [],
   "source": [
    "def getObject(macroRegionId, regionId, streetType, street, house, apartment, building=''):\n",
    "    \"\"\"\n",
    "    Получение номера ЕГРП\n",
    "    \n",
    "    string: macroRegionId\n",
    "    string: regionId\n",
    "    string: streetType\n",
    "    string: street\n",
    "    int: house\n",
    "    int: apartment\n",
    "    string: building=''\n",
    "    \"\"\"\n",
    "    url = 'http://rosreestr.ru/api/online/address/fir_objects'\n",
    "    \n",
    "    macroRegionId = getMacroRegionId(macroRegionId)\n",
    "    regionId = getRegionId(macroRegionId, regionId)\n",
    "        \n",
    "    streetTypeDic = {'Тупик': 'str56',\n",
    "                     'Починок': 'str41',\n",
    "                     'Железнодорожный пост': 'str20', \n",
    "                     'Тракт': 'str55', \n",
    "                     'ж/д остановочный (обгонный) пункт': 'str15', \n",
    "                     'Проселок': 'str45', \n",
    "                     'Аал': 'str8', \n",
    "                     'Территория': 'str54', \n",
    "                     'Деревня': 'str13', \n",
    "                     'Квартал': 'str25', \n",
    "                     'Платформа': 'str36', \n",
    "                     'Сквер': 'str50', \n",
    "                     'Переезд': 'str34', \n",
    "                     'Слобода': 'str51', \n",
    "                     'Железнодорожная казарма': 'str17', \n",
    "                     'Железнодорожная платформа': 'str18', \n",
    "                     'Село': 'str49', \n",
    "                     'Казарма': 'str24', \n",
    "                     'Улица': 'str1', \n",
    "                     'Остров': 'str32', \n",
    "                     'Выселки': 'str11', \n",
    "                     'Планировочный район': 'str35', \n",
    "                     'Городок': 'str12', \n",
    "                     'Почтовое отделение': 'str42', \n",
    "                     'Площадь': 'str4', \n",
    "                     'Участок': 'str57', \n",
    "                     'Кольцо': 'str27', \n",
    "                     'Микрорайон': 'str5', \n",
    "                     'Проспект': 'str3', \n",
    "                     'Полустанок': 'str38', \n",
    "                     'Заезд': 'str23', \n",
    "                     'Проулок': 'str46', \n",
    "                     'Дорога': 'str14', \n",
    "                     'Станция': 'str52', \n",
    "                     'Просек': 'str44', \n",
    "                     'Хутор': 'str58', \n",
    "                     'Строение': 'str53', \n",
    "                     'Переулок': 'str2', \n",
    "                     'Аул': 'str9', \n",
    "                     'Линия': 'str28', \n",
    "                     'Аллея': 'str6', \n",
    "                     'Набережная': 'str30', \n",
    "                     'Шоссе': 'str59', \n",
    "                     'Населенный пункт': 'str31', \n",
    "                     'Железнодорожный разъезд': 'str21', \n",
    "                     'Железнодорожная будка': 'str16', \n",
    "                     'Животноводческая точка': 'str22', \n",
    "                     'Местечко': 'str29', \n",
    "                     'Въезд': 'str10', \n",
    "                     'Площадка': 'str37', \n",
    "                     'Поселок сельского типа': 'str40', \n",
    "                     'Железнодорожная станция': 'str19', \n",
    "                     'Километр': 'str26', \n",
    "                     'Разъезд': 'str47', \n",
    "                     'Бульвар': 'str7', \n",
    "                     'Проезд': 'str43', \n",
    "                     'Парк': 'str33', \n",
    "                     'Поселок/станция': 'str39', \n",
    "                     'Сад': 'str48'}\n",
    "    \n",
    "    jsonParam = {'macroRegionId': macroRegionId,                      # id макрорегиона\n",
    "                 'regionId': regionId,                                # id региона \n",
    "                 'settlementId': '',                                  # id населенного пункта\n",
    "                 'settlementType': '',                                # тип населенного пункта (необязательное поле, используется для фильтрации списка населенных пунктов от типа) \n",
    "                 'streetType': streetTypeDic[streetType],             # тип улицы (необятельное поле)\n",
    "                 'street': street,                                    # наименование улицы\n",
    "                 'house': house,                                      # номер дома\n",
    "                 'apartment': apartment,                              # номер квартиры\n",
    "                 'building': building,                                # номер корпуса\n",
    "                 'structure': ''                                      # номер строения\n",
    "            }\n",
    "    resultat = requests.post(url, json=jsonParam).json()\n",
    "    resultat = resultat[0]['objectCn']\n",
    "    \n",
    "    return resultat"
   ]
  },
  {
   "cell_type": "code",
   "execution_count": 7,
   "metadata": {
    "collapsed": false
   },
   "outputs": [
    {
     "name": "stdout",
     "output_type": "stream",
     "text": [
      "52:18:0060178:493\n"
     ]
    }
   ],
   "source": [
    "Object = getObject('Нижегородская область', 'Нижний Новгород', 'Улица', 'Родионова', 39, 114)\n",
    "print(Object)"
   ]
  },
  {
   "cell_type": "markdown",
   "metadata": {},
   "source": [
    "52:18:0060178:493"
   ]
  },
  {
   "cell_type": "code",
   "execution_count": null,
   "metadata": {
    "collapsed": true
   },
   "outputs": [],
   "source": []
  }
 ],
 "metadata": {
  "anaconda-cloud": {},
  "kernelspec": {
   "display_name": "Python [conda root]",
   "language": "python",
   "name": "conda-root-py"
  },
  "language_info": {
   "codemirror_mode": {
    "name": "ipython",
    "version": 3
   },
   "file_extension": ".py",
   "mimetype": "text/x-python",
   "name": "python",
   "nbconvert_exporter": "python",
   "pygments_lexer": "ipython3",
   "version": "3.5.2"
  }
 },
 "nbformat": 4,
 "nbformat_minor": 1
}
